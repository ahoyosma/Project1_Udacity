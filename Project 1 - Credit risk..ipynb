{
 "cells": [
  {
   "cell_type": "markdown",
   "metadata": {},
   "source": [
    "# Environment setup"
   ]
  },
  {
   "cell_type": "code",
   "execution_count": 1,
   "metadata": {
    "scrolled": true
   },
   "outputs": [
    {
     "name": "stderr",
     "output_type": "stream",
     "text": [
      "C:\\Users\\AHOYOSMA\\.conda\\envs\\Tensor\\lib\\site-packages\\sklearn\\utils\\deprecation.py:144: FutureWarning: The sklearn.metrics.classification module is  deprecated in version 0.22 and will be removed in version 0.24. The corresponding classes / functions should instead be imported from sklearn.metrics. Anything that cannot be imported from sklearn.metrics is now part of the private API.\n",
      "  warnings.warn(message, FutureWarning)\n"
     ]
    }
   ],
   "source": [
    "import numpy as np\n",
    "import pandas as pd\n",
    "import matplotlib.pyplot as plt\n",
    "from sklearn.linear_model import LinearRegression\n",
    "from sklearn.model_selection import train_test_split\n",
    "from sklearn.metrics import r2_score, mean_squared_error,make_scorer, accuracy_score, classification_report, confusion_matrix,roc_curve\n",
    "from sklearn.ensemble import RandomForestClassifier\n",
    "from sklearn import preprocessing\n",
    "import seaborn as sns\n",
    "from sklearn.metrics import plot_roc_curve\n",
    "from yellowbrick.classifier import ClassBalance, ROCAUC, ClassificationReport, ClassPredictionError\n"
   ]
  },
  {
   "cell_type": "markdown",
   "metadata": {},
   "source": [
    "# Section 1. Business Understanding"
   ]
  },
  {
   "cell_type": "markdown",
   "metadata": {},
   "source": [
    "This project is a requirement of the Udacity Data Science Nanodegree. The project consists of answering three business questions from a public data set. Throughout this project we are going to answer three business questions about assesing credit risk:\n",
    "\n",
    "- Is there any valuable information in the sociodemographic data?\n",
    "- Is there any valuable information in the credit behaviour data?\n",
    "- how to make an accurate credit score?"
   ]
  },
  {
   "cell_type": "markdown",
   "metadata": {},
   "source": [
    "# Section 2. Data Understanding"
   ]
  },
  {
   "cell_type": "markdown",
   "metadata": {},
   "source": [
    "## Gather"
   ]
  },
  {
   "cell_type": "markdown",
   "metadata": {},
   "source": [
    "You can download the dataset we are going to use through the notebook [here](https://www.kaggle.com/c/GiveMeSomeCredit/data)"
   ]
  },
  {
   "cell_type": "code",
   "execution_count": 2,
   "metadata": {},
   "outputs": [
    {
     "data": {
      "text/html": [
       "<div>\n",
       "<style scoped>\n",
       "    .dataframe tbody tr th:only-of-type {\n",
       "        vertical-align: middle;\n",
       "    }\n",
       "\n",
       "    .dataframe tbody tr th {\n",
       "        vertical-align: top;\n",
       "    }\n",
       "\n",
       "    .dataframe thead th {\n",
       "        text-align: right;\n",
       "    }\n",
       "</style>\n",
       "<table border=\"1\" class=\"dataframe\">\n",
       "  <thead>\n",
       "    <tr style=\"text-align: right;\">\n",
       "      <th></th>\n",
       "      <th>Unnamed: 0</th>\n",
       "      <th>SeriousDlqin2yrs</th>\n",
       "      <th>RevolvingUtilizationOfUnsecuredLines</th>\n",
       "      <th>age</th>\n",
       "      <th>NumberOfTime30-59DaysPastDueNotWorse</th>\n",
       "      <th>DebtRatio</th>\n",
       "      <th>MonthlyIncome</th>\n",
       "      <th>NumberOfOpenCreditLinesAndLoans</th>\n",
       "      <th>NumberOfTimes90DaysLate</th>\n",
       "      <th>NumberRealEstateLoansOrLines</th>\n",
       "      <th>NumberOfTime60-89DaysPastDueNotWorse</th>\n",
       "      <th>NumberOfDependents</th>\n",
       "    </tr>\n",
       "  </thead>\n",
       "  <tbody>\n",
       "    <tr>\n",
       "      <th>0</th>\n",
       "      <td>1</td>\n",
       "      <td>1</td>\n",
       "      <td>0.766127</td>\n",
       "      <td>45</td>\n",
       "      <td>2</td>\n",
       "      <td>0.802982</td>\n",
       "      <td>9120.0</td>\n",
       "      <td>13</td>\n",
       "      <td>0</td>\n",
       "      <td>6</td>\n",
       "      <td>0</td>\n",
       "      <td>2.0</td>\n",
       "    </tr>\n",
       "    <tr>\n",
       "      <th>1</th>\n",
       "      <td>2</td>\n",
       "      <td>0</td>\n",
       "      <td>0.957151</td>\n",
       "      <td>40</td>\n",
       "      <td>0</td>\n",
       "      <td>0.121876</td>\n",
       "      <td>2600.0</td>\n",
       "      <td>4</td>\n",
       "      <td>0</td>\n",
       "      <td>0</td>\n",
       "      <td>0</td>\n",
       "      <td>1.0</td>\n",
       "    </tr>\n",
       "    <tr>\n",
       "      <th>2</th>\n",
       "      <td>3</td>\n",
       "      <td>0</td>\n",
       "      <td>0.658180</td>\n",
       "      <td>38</td>\n",
       "      <td>1</td>\n",
       "      <td>0.085113</td>\n",
       "      <td>3042.0</td>\n",
       "      <td>2</td>\n",
       "      <td>1</td>\n",
       "      <td>0</td>\n",
       "      <td>0</td>\n",
       "      <td>0.0</td>\n",
       "    </tr>\n",
       "    <tr>\n",
       "      <th>3</th>\n",
       "      <td>4</td>\n",
       "      <td>0</td>\n",
       "      <td>0.233810</td>\n",
       "      <td>30</td>\n",
       "      <td>0</td>\n",
       "      <td>0.036050</td>\n",
       "      <td>3300.0</td>\n",
       "      <td>5</td>\n",
       "      <td>0</td>\n",
       "      <td>0</td>\n",
       "      <td>0</td>\n",
       "      <td>0.0</td>\n",
       "    </tr>\n",
       "    <tr>\n",
       "      <th>4</th>\n",
       "      <td>5</td>\n",
       "      <td>0</td>\n",
       "      <td>0.907239</td>\n",
       "      <td>49</td>\n",
       "      <td>1</td>\n",
       "      <td>0.024926</td>\n",
       "      <td>63588.0</td>\n",
       "      <td>7</td>\n",
       "      <td>0</td>\n",
       "      <td>1</td>\n",
       "      <td>0</td>\n",
       "      <td>0.0</td>\n",
       "    </tr>\n",
       "  </tbody>\n",
       "</table>\n",
       "</div>"
      ],
      "text/plain": [
       "   Unnamed: 0  SeriousDlqin2yrs  RevolvingUtilizationOfUnsecuredLines  age  \\\n",
       "0           1                 1                              0.766127   45   \n",
       "1           2                 0                              0.957151   40   \n",
       "2           3                 0                              0.658180   38   \n",
       "3           4                 0                              0.233810   30   \n",
       "4           5                 0                              0.907239   49   \n",
       "\n",
       "   NumberOfTime30-59DaysPastDueNotWorse  DebtRatio  MonthlyIncome  \\\n",
       "0                                     2   0.802982         9120.0   \n",
       "1                                     0   0.121876         2600.0   \n",
       "2                                     1   0.085113         3042.0   \n",
       "3                                     0   0.036050         3300.0   \n",
       "4                                     1   0.024926        63588.0   \n",
       "\n",
       "   NumberOfOpenCreditLinesAndLoans  NumberOfTimes90DaysLate  \\\n",
       "0                               13                        0   \n",
       "1                                4                        0   \n",
       "2                                2                        1   \n",
       "3                                5                        0   \n",
       "4                                7                        0   \n",
       "\n",
       "   NumberRealEstateLoansOrLines  NumberOfTime60-89DaysPastDueNotWorse  \\\n",
       "0                             6                                     0   \n",
       "1                             0                                     0   \n",
       "2                             0                                     0   \n",
       "3                             0                                     0   \n",
       "4                             1                                     0   \n",
       "\n",
       "   NumberOfDependents  \n",
       "0                 2.0  \n",
       "1                 1.0  \n",
       "2                 0.0  \n",
       "3                 0.0  \n",
       "4                 0.0  "
      ]
     },
     "execution_count": 2,
     "metadata": {},
     "output_type": "execute_result"
    }
   ],
   "source": [
    "#loading the dataset\n",
    "DATA_PATH='./cs-training.csv'\n",
    "loans = pd.read_csv(DATA_PATH)\n",
    "loans.head()"
   ]
  },
  {
   "cell_type": "markdown",
   "metadata": {},
   "source": [
    "The **Give me Some Credit** dataset contains information about credit behaviour, it contains 12 variables:<br>"
   ]
  },
  {
   "cell_type": "markdown",
   "metadata": {},
   "source": [
    "\n",
    "| **Variable Name** | **Description** | **Type** |\n",
    "| :- | -: | :-: |\n",
    "| _<font color=red>SeriousDlqin2yrs</font>_ | <font color=red>Person experienced 90 days past due delinquency or worse</font>  | <font color=red>Y/N</font> |\n",
    "| _RevolvingUtilizationOfUnsecuredLines_ | Total balance on credit cards and personal lines of credit except real estate and no installment debt like car loans divided by the sum of credit limits | percentage |\n",
    "| _age_ | Age of borrower in years | integer |\n",
    "| _NumberOfTime30-59DaysPastDueNotWorse_ | Number of times borrower has been 30-59 days past due but no worse in the last 2 years. | integer |\n",
    "| _DebtRatio_ | Monthly debt payments, alimony,living costs divided by monthy gross income | percentage |\n",
    "| _MonthlyIncome_ | Monthly income | real |\n",
    "| _NumberOfOpenCreditLinesAndLoans_ | Number of Open loans (installment like car loan or mortgage) and Lines of credit (e.g. credit cards) | integer|\n",
    "| _NumberOfTimes90DaysLate_ | Number of times borrower has been 90 days or more past due. | integer |\n",
    "| _NumberRealEstateLoansOrLines_ | Number of mortgage and real estate loans including home equity lines of credit | integer |\n",
    "| _NumberOfTime60-89DaysPastDueNotWorse_ | Number of times borrower has been 60-89 days past due but no worse in the last 2 years. | integer |\n",
    "| _NumberOfDependents_ | Number of dependents in family excluding themselves (spouse, children etc.) | integer |\n"
   ]
  },
  {
   "cell_type": "markdown",
   "metadata": {},
   "source": [
    "The variable highlighted in **<font color=red>red</font>** corresponds to the Target variable, The other 10 features are the ones we are going to use to predict whether a customer present a default in the next two years."
   ]
  },
  {
   "cell_type": "markdown",
   "metadata": {},
   "source": [
    "## Exploratory data analysis "
   ]
  },
  {
   "cell_type": "markdown",
   "metadata": {},
   "source": [
    "Before Answering the business questions stated we have to perform a thorough data analysis to identify and correct any issues that the dataset can contain."
   ]
  },
  {
   "cell_type": "markdown",
   "metadata": {},
   "source": [
    "- **Dataset dimention**"
   ]
  },
  {
   "cell_type": "code",
   "execution_count": 3,
   "metadata": {},
   "outputs": [
    {
     "data": {
      "text/plain": [
       "(150000, 12)"
      ]
     },
     "execution_count": 3,
     "metadata": {},
     "output_type": "execute_result"
    }
   ],
   "source": [
    "loans.shape"
   ]
  },
  {
   "cell_type": "markdown",
   "metadata": {},
   "source": [
    "The shape shows that we have 150,000 obsevations and 12 features. <br> Since the data dictionary have only 11 features described, we are going to find which column doesn't belong to the dataset"
   ]
  },
  {
   "cell_type": "code",
   "execution_count": 4,
   "metadata": {},
   "outputs": [
    {
     "data": {
      "text/plain": [
       "Index(['Unnamed: 0', 'SeriousDlqin2yrs',\n",
       "       'RevolvingUtilizationOfUnsecuredLines', 'age',\n",
       "       'NumberOfTime30-59DaysPastDueNotWorse', 'DebtRatio', 'MonthlyIncome',\n",
       "       'NumberOfOpenCreditLinesAndLoans', 'NumberOfTimes90DaysLate',\n",
       "       'NumberRealEstateLoansOrLines', 'NumberOfTime60-89DaysPastDueNotWorse',\n",
       "       'NumberOfDependents'],\n",
       "      dtype='object')"
      ]
     },
     "execution_count": 4,
     "metadata": {},
     "output_type": "execute_result"
    }
   ],
   "source": [
    "#list the columns\n",
    "loans.columns"
   ]
  },
  {
   "cell_type": "markdown",
   "metadata": {},
   "source": [
    "From the list of columns we can identify a column that doesn't belong to the dictionary  **<font color=red>'Unnamed: 0'</font>** , has a name that doesn't match the naming convention of the dataset. <br>\n",
    "To be completely sure that we can ignore that column, we are going to do a descriptive analysis on that column."
   ]
  },
  {
   "cell_type": "code",
   "execution_count": 5,
   "metadata": {},
   "outputs": [
    {
     "data": {
      "text/plain": [
       "count    150000.000000\n",
       "mean      75000.500000\n",
       "std       43301.414527\n",
       "min           1.000000\n",
       "25%       37500.750000\n",
       "50%       75000.500000\n",
       "75%      112500.250000\n",
       "max      150000.000000\n",
       "Name: Unnamed: 0, dtype: float64"
      ]
     },
     "execution_count": 5,
     "metadata": {},
     "output_type": "execute_result"
    }
   ],
   "source": [
    "loans['Unnamed: 0'].describe()"
   ]
  },
  {
   "cell_type": "markdown",
   "metadata": {},
   "source": [
    "From the analysis we can observe, the minimum is 1, the maximum is equal to the number of observations, and the mean is exactly half between 1 and 150,000. that behavior means that the column is a **unique identifier** starting at one with steps of one. Given that, there is no harm in exercising to remove the spine."
   ]
  },
  {
   "cell_type": "code",
   "execution_count": 6,
   "metadata": {},
   "outputs": [],
   "source": [
    "loans= loans.drop('Unnamed: 0', axis=1)"
   ]
  },
  {
   "cell_type": "code",
   "execution_count": 7,
   "metadata": {},
   "outputs": [
    {
     "data": {
      "text/plain": [
       "(150000, 11)"
      ]
     },
     "execution_count": 7,
     "metadata": {},
     "output_type": "execute_result"
    }
   ],
   "source": [
    "loans.shape"
   ]
  },
  {
   "cell_type": "markdown",
   "metadata": {},
   "source": [
    "We can observe that the shape of the dataset is now consistent with the expected from the dictionary."
   ]
  },
  {
   "cell_type": "markdown",
   "metadata": {},
   "source": [
    "- **Descriptive Stats**"
   ]
  },
  {
   "cell_type": "code",
   "execution_count": 8,
   "metadata": {},
   "outputs": [
    {
     "data": {
      "text/html": [
       "<div>\n",
       "<style scoped>\n",
       "    .dataframe tbody tr th:only-of-type {\n",
       "        vertical-align: middle;\n",
       "    }\n",
       "\n",
       "    .dataframe tbody tr th {\n",
       "        vertical-align: top;\n",
       "    }\n",
       "\n",
       "    .dataframe thead th {\n",
       "        text-align: right;\n",
       "    }\n",
       "</style>\n",
       "<table border=\"1\" class=\"dataframe\">\n",
       "  <thead>\n",
       "    <tr style=\"text-align: right;\">\n",
       "      <th></th>\n",
       "      <th>SeriousDlqin2yrs</th>\n",
       "      <th>RevolvingUtilizationOfUnsecuredLines</th>\n",
       "      <th>age</th>\n",
       "      <th>NumberOfTime30-59DaysPastDueNotWorse</th>\n",
       "      <th>DebtRatio</th>\n",
       "      <th>MonthlyIncome</th>\n",
       "      <th>NumberOfOpenCreditLinesAndLoans</th>\n",
       "      <th>NumberOfTimes90DaysLate</th>\n",
       "      <th>NumberRealEstateLoansOrLines</th>\n",
       "      <th>NumberOfTime60-89DaysPastDueNotWorse</th>\n",
       "      <th>NumberOfDependents</th>\n",
       "    </tr>\n",
       "  </thead>\n",
       "  <tbody>\n",
       "    <tr>\n",
       "      <th>count</th>\n",
       "      <td>150000.000000</td>\n",
       "      <td>150000.000000</td>\n",
       "      <td>150000.000000</td>\n",
       "      <td>150000.000000</td>\n",
       "      <td>150000.000000</td>\n",
       "      <td>1.202690e+05</td>\n",
       "      <td>150000.000000</td>\n",
       "      <td>150000.000000</td>\n",
       "      <td>150000.000000</td>\n",
       "      <td>150000.000000</td>\n",
       "      <td>146076.000000</td>\n",
       "    </tr>\n",
       "    <tr>\n",
       "      <th>mean</th>\n",
       "      <td>0.066840</td>\n",
       "      <td>6.048438</td>\n",
       "      <td>52.295207</td>\n",
       "      <td>0.421033</td>\n",
       "      <td>353.005076</td>\n",
       "      <td>6.670221e+03</td>\n",
       "      <td>8.452760</td>\n",
       "      <td>0.265973</td>\n",
       "      <td>1.018240</td>\n",
       "      <td>0.240387</td>\n",
       "      <td>0.757222</td>\n",
       "    </tr>\n",
       "    <tr>\n",
       "      <th>std</th>\n",
       "      <td>0.249746</td>\n",
       "      <td>249.755371</td>\n",
       "      <td>14.771866</td>\n",
       "      <td>4.192781</td>\n",
       "      <td>2037.818523</td>\n",
       "      <td>1.438467e+04</td>\n",
       "      <td>5.145951</td>\n",
       "      <td>4.169304</td>\n",
       "      <td>1.129771</td>\n",
       "      <td>4.155179</td>\n",
       "      <td>1.115086</td>\n",
       "    </tr>\n",
       "    <tr>\n",
       "      <th>min</th>\n",
       "      <td>0.000000</td>\n",
       "      <td>0.000000</td>\n",
       "      <td>0.000000</td>\n",
       "      <td>0.000000</td>\n",
       "      <td>0.000000</td>\n",
       "      <td>0.000000e+00</td>\n",
       "      <td>0.000000</td>\n",
       "      <td>0.000000</td>\n",
       "      <td>0.000000</td>\n",
       "      <td>0.000000</td>\n",
       "      <td>0.000000</td>\n",
       "    </tr>\n",
       "    <tr>\n",
       "      <th>25%</th>\n",
       "      <td>0.000000</td>\n",
       "      <td>0.029867</td>\n",
       "      <td>41.000000</td>\n",
       "      <td>0.000000</td>\n",
       "      <td>0.175074</td>\n",
       "      <td>3.400000e+03</td>\n",
       "      <td>5.000000</td>\n",
       "      <td>0.000000</td>\n",
       "      <td>0.000000</td>\n",
       "      <td>0.000000</td>\n",
       "      <td>0.000000</td>\n",
       "    </tr>\n",
       "    <tr>\n",
       "      <th>50%</th>\n",
       "      <td>0.000000</td>\n",
       "      <td>0.154181</td>\n",
       "      <td>52.000000</td>\n",
       "      <td>0.000000</td>\n",
       "      <td>0.366508</td>\n",
       "      <td>5.400000e+03</td>\n",
       "      <td>8.000000</td>\n",
       "      <td>0.000000</td>\n",
       "      <td>1.000000</td>\n",
       "      <td>0.000000</td>\n",
       "      <td>0.000000</td>\n",
       "    </tr>\n",
       "    <tr>\n",
       "      <th>75%</th>\n",
       "      <td>0.000000</td>\n",
       "      <td>0.559046</td>\n",
       "      <td>63.000000</td>\n",
       "      <td>0.000000</td>\n",
       "      <td>0.868254</td>\n",
       "      <td>8.249000e+03</td>\n",
       "      <td>11.000000</td>\n",
       "      <td>0.000000</td>\n",
       "      <td>2.000000</td>\n",
       "      <td>0.000000</td>\n",
       "      <td>1.000000</td>\n",
       "    </tr>\n",
       "    <tr>\n",
       "      <th>max</th>\n",
       "      <td>1.000000</td>\n",
       "      <td>50708.000000</td>\n",
       "      <td>109.000000</td>\n",
       "      <td>98.000000</td>\n",
       "      <td>329664.000000</td>\n",
       "      <td>3.008750e+06</td>\n",
       "      <td>58.000000</td>\n",
       "      <td>98.000000</td>\n",
       "      <td>54.000000</td>\n",
       "      <td>98.000000</td>\n",
       "      <td>20.000000</td>\n",
       "    </tr>\n",
       "  </tbody>\n",
       "</table>\n",
       "</div>"
      ],
      "text/plain": [
       "       SeriousDlqin2yrs  RevolvingUtilizationOfUnsecuredLines            age  \\\n",
       "count     150000.000000                         150000.000000  150000.000000   \n",
       "mean           0.066840                              6.048438      52.295207   \n",
       "std            0.249746                            249.755371      14.771866   \n",
       "min            0.000000                              0.000000       0.000000   \n",
       "25%            0.000000                              0.029867      41.000000   \n",
       "50%            0.000000                              0.154181      52.000000   \n",
       "75%            0.000000                              0.559046      63.000000   \n",
       "max            1.000000                          50708.000000     109.000000   \n",
       "\n",
       "       NumberOfTime30-59DaysPastDueNotWorse      DebtRatio  MonthlyIncome  \\\n",
       "count                         150000.000000  150000.000000   1.202690e+05   \n",
       "mean                               0.421033     353.005076   6.670221e+03   \n",
       "std                                4.192781    2037.818523   1.438467e+04   \n",
       "min                                0.000000       0.000000   0.000000e+00   \n",
       "25%                                0.000000       0.175074   3.400000e+03   \n",
       "50%                                0.000000       0.366508   5.400000e+03   \n",
       "75%                                0.000000       0.868254   8.249000e+03   \n",
       "max                               98.000000  329664.000000   3.008750e+06   \n",
       "\n",
       "       NumberOfOpenCreditLinesAndLoans  NumberOfTimes90DaysLate  \\\n",
       "count                    150000.000000            150000.000000   \n",
       "mean                          8.452760                 0.265973   \n",
       "std                           5.145951                 4.169304   \n",
       "min                           0.000000                 0.000000   \n",
       "25%                           5.000000                 0.000000   \n",
       "50%                           8.000000                 0.000000   \n",
       "75%                          11.000000                 0.000000   \n",
       "max                          58.000000                98.000000   \n",
       "\n",
       "       NumberRealEstateLoansOrLines  NumberOfTime60-89DaysPastDueNotWorse  \\\n",
       "count                 150000.000000                         150000.000000   \n",
       "mean                       1.018240                              0.240387   \n",
       "std                        1.129771                              4.155179   \n",
       "min                        0.000000                              0.000000   \n",
       "25%                        0.000000                              0.000000   \n",
       "50%                        1.000000                              0.000000   \n",
       "75%                        2.000000                              0.000000   \n",
       "max                       54.000000                             98.000000   \n",
       "\n",
       "       NumberOfDependents  \n",
       "count       146076.000000  \n",
       "mean             0.757222  \n",
       "std              1.115086  \n",
       "min              0.000000  \n",
       "25%              0.000000  \n",
       "50%              0.000000  \n",
       "75%              1.000000  \n",
       "max             20.000000  "
      ]
     },
     "execution_count": 8,
     "metadata": {},
     "output_type": "execute_result"
    }
   ],
   "source": [
    "loans.describe()"
   ]
  },
  {
   "cell_type": "markdown",
   "metadata": {},
   "source": [
    "From the data description we can adress some problems with some of the features in the dataset:<br>\n",
    "- **<font color=red>SeriousDlqin2yrs :</font>**<br> binary feature wit 6.68% of ones\n",
    "- **RevolvingUtilizationOfUnsecuredLines :** <br>Since this variable is a percentage that represents the relationship between balance and credit limit, there is no way that any bank allows exceeding the credit limit by a factor of 50,000 or higher as evidenced in the maximum, those values are distorting the mean and standard deviation of the characteristic. we are going to do more analysis to define how to tackle this isue. \n",
    "- **age :** <br>Although it is possible for a human being to live 109 years it is highly unlikely, and from a business perspective there is no way for a bank to issue a loan to someone 0 years old. More analysis will be done.\n",
    "- **NumberOfTime30-59DaysPastDueNotWorse**<br> Two years has 24 months therefore is not posible for the column to present values over 24\n",
    "- **DebtRatio**<br> It is posible to have values over 1, but 329664 seems a data mistake.}\n",
    "- **MonthlyIncome**<br> the values of the column seems reasonable there are people that can earn 3 million monthly.\n",
    "- **NumberOfOpenCreditLinesAndLoans**<br> the values of the column seems reasonable.\n",
    "- **NumberOfTimes90DaysLate**<br>Two years has 24 months therefore is not posible for the column to present values over 24\n",
    "- **NumberRealEstateLoansOrLines**<br> the values of the column seems reasonable.\n",
    "- **NumberOfTime60-89DaysPastDueNotWorse**<br> Two years has 24 months therefore is not posible for the column to present values over 24\n",
    "- **NumberOfDependents**<br> althoug 20 dependants seems too much is posible."
   ]
  },
  {
   "cell_type": "markdown",
   "metadata": {},
   "source": [
    "# Section 3. Data Preparation"
   ]
  },
  {
   "cell_type": "markdown",
   "metadata": {},
   "source": [
    "First of all we are going to rename a couple of variables because its names could arise problems in the code"
   ]
  },
  {
   "cell_type": "code",
   "execution_count": 9,
   "metadata": {},
   "outputs": [],
   "source": [
    "loans['NumberOfTime30_59DaysPastDueNotWorse']=loans['NumberOfTime30-59DaysPastDueNotWorse']\n",
    "loans= loans.drop('NumberOfTime30-59DaysPastDueNotWorse', axis=1)\n",
    "loans['NumberOfTime60_89DaysPastDueNotWorse']=loans['NumberOfTime60-89DaysPastDueNotWorse']\n",
    "loans= loans.drop('NumberOfTime60-89DaysPastDueNotWorse', axis=1)\n"
   ]
  },
  {
   "cell_type": "markdown",
   "metadata": {},
   "source": [
    "## Data cleaning"
   ]
  },
  {
   "cell_type": "markdown",
   "metadata": {},
   "source": [
    "all the identified outlier will be removed, as well de missing values in the column monthly income because the form a business perspective it doesn´t make sense"
   ]
  },
  {
   "cell_type": "code",
   "execution_count": 10,
   "metadata": {},
   "outputs": [],
   "source": [
    "\n",
    "def OutlierSelection(col,data): \n",
    "    '''\n",
    "    Function that detects outliers for the data, this method for outliers detection fits best the data because the std in most \n",
    "    of the features is much drater than the 75th percentile.\n",
    "\n",
    "    Input \n",
    "       col  = str with the column name\n",
    "       data = dataframe with the information\n",
    "    output \n",
    "       df   = dataframe with the bins and the counts\n",
    "    '''\n",
    "    \n",
    "    q_u = data[col].quantile(0.75)  # Upper Quartile\n",
    "    q_l = data[col].quantile(0.25)  # Lower Quartile\n",
    "    m   = data[col].quantile(0.50)  # Median\n",
    "    iqr = q_u - q_l                 # InterQuartile Range\n",
    "    lb = q_l - 1.5 * iqr           # Anithing under 1,5 interquartile can be considered outlier\n",
    "    ub = q_u + 1.5 * iqr           # Anithing over 1,5 interquartile can be considered outlier\n",
    "    bins = [float('-inf'), lb, q_l, m, q_u, ub, float('inf')] \n",
    "    data['Col_binned']=pd.cut(x = data[col],bins = bins)\n",
    "    df = data['Col_binned'].value_counts(sort=False)\n",
    "    data= data.drop('Col_binned', axis=1)\n",
    "    return(df);"
   ]
  },
  {
   "cell_type": "code",
   "execution_count": 11,
   "metadata": {},
   "outputs": [],
   "source": [
    "def TwoBinsWithaCut(col,cut,data): \n",
    "    \n",
    "    '''\n",
    "    Function that returns two bins given a cut.\n",
    "\n",
    "    Input \n",
    "       col  = str with the column name\n",
    "       cut  = int with the cut\n",
    "       data = dataframe with the information\n",
    "    output \n",
    "       df   = dataframe with the bins and the counts\n",
    "\n",
    "    '''\n",
    "\n",
    "    bins = [float('-inf'), cut, float('inf')] \n",
    "    data['Col_binned']=pd.cut(x = data[col],bins = bins)\n",
    "    df = data['Col_binned'].value_counts(sort=False)\n",
    "    data= data.drop('Col_binned', axis=1)\n",
    "    return(df);"
   ]
  },
  {
   "cell_type": "markdown",
   "metadata": {},
   "source": [
    "- **RevolvingUtilizationOfUnsecuredLines**"
   ]
  },
  {
   "cell_type": "code",
   "execution_count": 12,
   "metadata": {},
   "outputs": [
    {
     "name": "stdout",
     "output_type": "stream",
     "text": [
      "(-inf, -0.764]          0\n",
      "(-0.764, 0.0299]    37500\n",
      "(0.0299, 0.154]     37500\n",
      "(0.154, 0.559]      37500\n",
      "(0.559, 1.353]      36737\n",
      "(1.353, inf]          763\n",
      "Name: Col_binned, dtype: int64\n"
     ]
    }
   ],
   "source": [
    "col = 'RevolvingUtilizationOfUnsecuredLines'\n",
    "bp_bins = OutlierSelection(col,loans)\n",
    "print(bp_bins)"
   ]
  },
  {
   "cell_type": "code",
   "execution_count": 13,
   "metadata": {},
   "outputs": [],
   "source": [
    "cleanedloans=loans[loans.RevolvingUtilizationOfUnsecuredLines <= 1.353]"
   ]
  },
  {
   "cell_type": "markdown",
   "metadata": {},
   "source": [
    "- **age**"
   ]
  },
  {
   "cell_type": "code",
   "execution_count": 14,
   "metadata": {},
   "outputs": [
    {
     "name": "stdout",
     "output_type": "stream",
     "text": [
      "(-inf, 8.0]         1\n",
      "(8.0, 41.0]     38218\n",
      "(41.0, 52.0]    39151\n",
      "(52.0, 63.0]    38379\n",
      "(63.0, 96.0]    34206\n",
      "(96.0, inf]        45\n",
      "Name: Col_binned, dtype: int64\n"
     ]
    }
   ],
   "source": [
    "col = 'age'\n",
    "bp_bins = OutlierSelection(col,loans)\n",
    "print(bp_bins)"
   ]
  },
  {
   "cell_type": "code",
   "execution_count": 15,
   "metadata": {},
   "outputs": [],
   "source": [
    "cleanedloans=cleanedloans[cleanedloans.age <= 96]"
   ]
  },
  {
   "cell_type": "markdown",
   "metadata": {},
   "source": [
    "- **NumberOfTime30-59DaysPastDueNotWorse**"
   ]
  },
  {
   "cell_type": "code",
   "execution_count": 16,
   "metadata": {},
   "outputs": [
    {
     "name": "stdout",
     "output_type": "stream",
     "text": [
      "(-inf, 24.0]    149731\n",
      "(24.0, inf]        269\n",
      "Name: Col_binned, dtype: int64\n"
     ]
    }
   ],
   "source": [
    "col = 'NumberOfTime30_59DaysPastDueNotWorse'\n",
    "cut = 24\n",
    "bp_bins = TwoBinsWithaCut(col,cut,loans)\n",
    "print(bp_bins)"
   ]
  },
  {
   "cell_type": "code",
   "execution_count": 17,
   "metadata": {},
   "outputs": [],
   "source": [
    "cleanedloans=cleanedloans[cleanedloans.NumberOfTime30_59DaysPastDueNotWorse <= 24]"
   ]
  },
  {
   "cell_type": "markdown",
   "metadata": {},
   "source": [
    "- **DebtRatio & MonthlyIncome**"
   ]
  },
  {
   "cell_type": "code",
   "execution_count": 18,
   "metadata": {},
   "outputs": [
    {
     "name": "stdout",
     "output_type": "stream",
     "text": [
      "(-inf, -0.865]         0\n",
      "(-0.865, 0.175]    37500\n",
      "(0.175, 0.367]     37500\n",
      "(0.367, 0.868]     37500\n",
      "(0.868, 1.908]      6189\n",
      "(1.908, inf]       31311\n",
      "Name: Col_binned, dtype: int64\n"
     ]
    }
   ],
   "source": [
    "col = 'DebtRatio'\n",
    "bp_bins = OutlierSelection(col,loans)\n",
    "print(bp_bins)"
   ]
  },
  {
   "cell_type": "code",
   "execution_count": 19,
   "metadata": {},
   "outputs": [],
   "source": [
    "nonaloans=loans.dropna()"
   ]
  },
  {
   "cell_type": "code",
   "execution_count": 20,
   "metadata": {},
   "outputs": [
    {
     "name": "stdout",
     "output_type": "stream",
     "text": [
      "(-inf, -0.365]         0\n",
      "(-0.365, 0.143]    30069\n",
      "(0.143, 0.296]     30066\n",
      "(0.296, 0.483]     30067\n",
      "(0.483, 0.991]     22709\n",
      "(0.991, inf]        7358\n",
      "Name: Col_binned, dtype: int64\n"
     ]
    },
    {
     "name": "stderr",
     "output_type": "stream",
     "text": [
      "C:\\Users\\AHOYOSMA\\.conda\\envs\\Tensor\\lib\\site-packages\\ipykernel_launcher.py:20: SettingWithCopyWarning: \n",
      "A value is trying to be set on a copy of a slice from a DataFrame.\n",
      "Try using .loc[row_indexer,col_indexer] = value instead\n",
      "\n",
      "See the caveats in the documentation: https://pandas.pydata.org/pandas-docs/stable/user_guide/indexing.html#returning-a-view-versus-a-copy\n"
     ]
    }
   ],
   "source": [
    "col = 'DebtRatio'\n",
    "bp_bins = OutlierSelection(col,nonaloans)\n",
    "print(bp_bins)"
   ]
  },
  {
   "cell_type": "code",
   "execution_count": 21,
   "metadata": {},
   "outputs": [],
   "source": [
    "cleanedloans=cleanedloans.dropna()\n",
    "cleanedloans=cleanedloans[cleanedloans.DebtRatio <= 1]"
   ]
  },
  {
   "cell_type": "markdown",
   "metadata": {},
   "source": [
    "- **NumberOfTimes90DaysLate**"
   ]
  },
  {
   "cell_type": "code",
   "execution_count": 22,
   "metadata": {},
   "outputs": [
    {
     "name": "stdout",
     "output_type": "stream",
     "text": [
      "(-inf, 24.0]    149731\n",
      "(24.0, inf]        269\n",
      "Name: Col_binned, dtype: int64\n"
     ]
    }
   ],
   "source": [
    "col = 'NumberOfTimes90DaysLate'\n",
    "cut = 24\n",
    "bp_bins = TwoBinsWithaCut(col,cut,loans)\n",
    "print(bp_bins)"
   ]
  },
  {
   "cell_type": "code",
   "execution_count": 23,
   "metadata": {},
   "outputs": [],
   "source": [
    "cleanedloans=cleanedloans[cleanedloans.NumberOfTimes90DaysLate <= 24]"
   ]
  },
  {
   "cell_type": "markdown",
   "metadata": {},
   "source": [
    "- **NumberOfTime60-89DaysPastDueNotWorse**"
   ]
  },
  {
   "cell_type": "code",
   "execution_count": 24,
   "metadata": {},
   "outputs": [
    {
     "name": "stdout",
     "output_type": "stream",
     "text": [
      "(-inf, 24.0]    149731\n",
      "(24.0, inf]        269\n",
      "Name: Col_binned, dtype: int64\n"
     ]
    }
   ],
   "source": [
    "col = 'NumberOfTime60_89DaysPastDueNotWorse'\n",
    "cut = 24\n",
    "bp_bins = TwoBinsWithaCut(col,cut,loans)\n",
    "print(bp_bins)"
   ]
  },
  {
   "cell_type": "code",
   "execution_count": 25,
   "metadata": {},
   "outputs": [],
   "source": [
    "cleanedloans=cleanedloans[cleanedloans.NumberOfTimes90DaysLate <= 24]"
   ]
  },
  {
   "cell_type": "markdown",
   "metadata": {},
   "source": [
    "- **Descriptive Stats claned data**"
   ]
  },
  {
   "cell_type": "code",
   "execution_count": 26,
   "metadata": {},
   "outputs": [
    {
     "data": {
      "text/html": [
       "<div>\n",
       "<style scoped>\n",
       "    .dataframe tbody tr th:only-of-type {\n",
       "        vertical-align: middle;\n",
       "    }\n",
       "\n",
       "    .dataframe tbody tr th {\n",
       "        vertical-align: top;\n",
       "    }\n",
       "\n",
       "    .dataframe thead th {\n",
       "        text-align: right;\n",
       "    }\n",
       "</style>\n",
       "<table border=\"1\" class=\"dataframe\">\n",
       "  <thead>\n",
       "    <tr style=\"text-align: right;\">\n",
       "      <th></th>\n",
       "      <th>SeriousDlqin2yrs</th>\n",
       "      <th>RevolvingUtilizationOfUnsecuredLines</th>\n",
       "      <th>age</th>\n",
       "      <th>DebtRatio</th>\n",
       "      <th>MonthlyIncome</th>\n",
       "      <th>NumberOfOpenCreditLinesAndLoans</th>\n",
       "      <th>NumberOfTimes90DaysLate</th>\n",
       "      <th>NumberRealEstateLoansOrLines</th>\n",
       "      <th>NumberOfDependents</th>\n",
       "      <th>NumberOfTime30_59DaysPastDueNotWorse</th>\n",
       "      <th>NumberOfTime60_89DaysPastDueNotWorse</th>\n",
       "    </tr>\n",
       "  </thead>\n",
       "  <tbody>\n",
       "    <tr>\n",
       "      <th>count</th>\n",
       "      <td>112320.000000</td>\n",
       "      <td>112320.000000</td>\n",
       "      <td>112320.000000</td>\n",
       "      <td>112320.000000</td>\n",
       "      <td>1.123200e+05</td>\n",
       "      <td>112320.000000</td>\n",
       "      <td>112320.000000</td>\n",
       "      <td>112320.000000</td>\n",
       "      <td>112320.000000</td>\n",
       "      <td>112320.000000</td>\n",
       "      <td>112320.000000</td>\n",
       "    </tr>\n",
       "    <tr>\n",
       "      <th>mean</th>\n",
       "      <td>0.065598</td>\n",
       "      <td>0.324346</td>\n",
       "      <td>51.385675</td>\n",
       "      <td>0.306654</td>\n",
       "      <td>6.960955e+03</td>\n",
       "      <td>8.693875</td>\n",
       "      <td>0.087402</td>\n",
       "      <td>1.017512</td>\n",
       "      <td>0.854309</td>\n",
       "      <td>0.254398</td>\n",
       "      <td>0.064441</td>\n",
       "    </tr>\n",
       "    <tr>\n",
       "      <th>std</th>\n",
       "      <td>0.247580</td>\n",
       "      <td>0.346694</td>\n",
       "      <td>14.444888</td>\n",
       "      <td>0.223080</td>\n",
       "      <td>1.481448e+04</td>\n",
       "      <td>5.122303</td>\n",
       "      <td>0.466079</td>\n",
       "      <td>1.081243</td>\n",
       "      <td>1.148466</td>\n",
       "      <td>0.704555</td>\n",
       "      <td>0.323323</td>\n",
       "    </tr>\n",
       "    <tr>\n",
       "      <th>min</th>\n",
       "      <td>0.000000</td>\n",
       "      <td>0.000000</td>\n",
       "      <td>0.000000</td>\n",
       "      <td>0.000000</td>\n",
       "      <td>0.000000e+00</td>\n",
       "      <td>0.000000</td>\n",
       "      <td>0.000000</td>\n",
       "      <td>0.000000</td>\n",
       "      <td>0.000000</td>\n",
       "      <td>0.000000</td>\n",
       "      <td>0.000000</td>\n",
       "    </tr>\n",
       "    <tr>\n",
       "      <th>25%</th>\n",
       "      <td>0.000000</td>\n",
       "      <td>0.033931</td>\n",
       "      <td>41.000000</td>\n",
       "      <td>0.133966</td>\n",
       "      <td>3.646000e+03</td>\n",
       "      <td>5.000000</td>\n",
       "      <td>0.000000</td>\n",
       "      <td>0.000000</td>\n",
       "      <td>0.000000</td>\n",
       "      <td>0.000000</td>\n",
       "      <td>0.000000</td>\n",
       "    </tr>\n",
       "    <tr>\n",
       "      <th>50%</th>\n",
       "      <td>0.000000</td>\n",
       "      <td>0.169919</td>\n",
       "      <td>51.000000</td>\n",
       "      <td>0.278696</td>\n",
       "      <td>5.600000e+03</td>\n",
       "      <td>8.000000</td>\n",
       "      <td>0.000000</td>\n",
       "      <td>1.000000</td>\n",
       "      <td>0.000000</td>\n",
       "      <td>0.000000</td>\n",
       "      <td>0.000000</td>\n",
       "    </tr>\n",
       "    <tr>\n",
       "      <th>75%</th>\n",
       "      <td>0.000000</td>\n",
       "      <td>0.560205</td>\n",
       "      <td>62.000000</td>\n",
       "      <td>0.440514</td>\n",
       "      <td>8.416250e+03</td>\n",
       "      <td>11.000000</td>\n",
       "      <td>0.000000</td>\n",
       "      <td>2.000000</td>\n",
       "      <td>2.000000</td>\n",
       "      <td>0.000000</td>\n",
       "      <td>0.000000</td>\n",
       "    </tr>\n",
       "    <tr>\n",
       "      <th>max</th>\n",
       "      <td>1.000000</td>\n",
       "      <td>1.352159</td>\n",
       "      <td>96.000000</td>\n",
       "      <td>1.000000</td>\n",
       "      <td>3.008750e+06</td>\n",
       "      <td>57.000000</td>\n",
       "      <td>17.000000</td>\n",
       "      <td>29.000000</td>\n",
       "      <td>20.000000</td>\n",
       "      <td>13.000000</td>\n",
       "      <td>11.000000</td>\n",
       "    </tr>\n",
       "  </tbody>\n",
       "</table>\n",
       "</div>"
      ],
      "text/plain": [
       "       SeriousDlqin2yrs  RevolvingUtilizationOfUnsecuredLines            age  \\\n",
       "count     112320.000000                         112320.000000  112320.000000   \n",
       "mean           0.065598                              0.324346      51.385675   \n",
       "std            0.247580                              0.346694      14.444888   \n",
       "min            0.000000                              0.000000       0.000000   \n",
       "25%            0.000000                              0.033931      41.000000   \n",
       "50%            0.000000                              0.169919      51.000000   \n",
       "75%            0.000000                              0.560205      62.000000   \n",
       "max            1.000000                              1.352159      96.000000   \n",
       "\n",
       "           DebtRatio  MonthlyIncome  NumberOfOpenCreditLinesAndLoans  \\\n",
       "count  112320.000000   1.123200e+05                    112320.000000   \n",
       "mean        0.306654   6.960955e+03                         8.693875   \n",
       "std         0.223080   1.481448e+04                         5.122303   \n",
       "min         0.000000   0.000000e+00                         0.000000   \n",
       "25%         0.133966   3.646000e+03                         5.000000   \n",
       "50%         0.278696   5.600000e+03                         8.000000   \n",
       "75%         0.440514   8.416250e+03                        11.000000   \n",
       "max         1.000000   3.008750e+06                        57.000000   \n",
       "\n",
       "       NumberOfTimes90DaysLate  NumberRealEstateLoansOrLines  \\\n",
       "count            112320.000000                 112320.000000   \n",
       "mean                  0.087402                      1.017512   \n",
       "std                   0.466079                      1.081243   \n",
       "min                   0.000000                      0.000000   \n",
       "25%                   0.000000                      0.000000   \n",
       "50%                   0.000000                      1.000000   \n",
       "75%                   0.000000                      2.000000   \n",
       "max                  17.000000                     29.000000   \n",
       "\n",
       "       NumberOfDependents  NumberOfTime30_59DaysPastDueNotWorse  \\\n",
       "count       112320.000000                         112320.000000   \n",
       "mean             0.854309                              0.254398   \n",
       "std              1.148466                              0.704555   \n",
       "min              0.000000                              0.000000   \n",
       "25%              0.000000                              0.000000   \n",
       "50%              0.000000                              0.000000   \n",
       "75%              2.000000                              0.000000   \n",
       "max             20.000000                             13.000000   \n",
       "\n",
       "       NumberOfTime60_89DaysPastDueNotWorse  \n",
       "count                         112320.000000  \n",
       "mean                               0.064441  \n",
       "std                                0.323323  \n",
       "min                                0.000000  \n",
       "25%                                0.000000  \n",
       "50%                                0.000000  \n",
       "75%                                0.000000  \n",
       "max                               11.000000  "
      ]
     },
     "execution_count": 26,
     "metadata": {},
     "output_type": "execute_result"
    }
   ],
   "source": [
    "cleanedloans= cleanedloans.drop('Col_binned', axis=1)\n",
    "cleanedloans.describe()"
   ]
  },
  {
   "cell_type": "markdown",
   "metadata": {},
   "source": [
    "All de data isues found where corrected and the percentage of ones didn´t change significately from 6.68% to 6.65%. The dataset is ready to answer The business questions."
   ]
  },
  {
   "cell_type": "markdown",
   "metadata": {},
   "source": [
    "# Section 4. Data Modeling"
   ]
  },
  {
   "cell_type": "markdown",
   "metadata": {},
   "source": [
    "Since This is a clasification model we are going to use a random forest as a model"
   ]
  },
  {
   "cell_type": "markdown",
   "metadata": {},
   "source": [
    "## Model training"
   ]
  },
  {
   "cell_type": "markdown",
   "metadata": {},
   "source": [
    "- **Data Split**"
   ]
  },
  {
   "cell_type": "code",
   "execution_count": 27,
   "metadata": {},
   "outputs": [],
   "source": [
    "X = cleanedloans[['RevolvingUtilizationOfUnsecuredLines', 'age','DebtRatio', 'MonthlyIncome','NumberOfOpenCreditLinesAndLoans',\n",
    "                  'NumberOfTimes90DaysLate', 'NumberRealEstateLoansOrLines','NumberOfDependents',\n",
    "                  'NumberOfTime30_59DaysPastDueNotWorse', 'NumberOfTime60_89DaysPastDueNotWorse']]\n",
    "y = cleanedloans['SeriousDlqin2yrs']\n",
    "\n",
    "X_train, X_test, y_train, y_test = train_test_split(X, y, test_size = .30)"
   ]
  },
  {
   "cell_type": "markdown",
   "metadata": {},
   "source": [
    "- **Training**"
   ]
  },
  {
   "cell_type": "code",
   "execution_count": 28,
   "metadata": {},
   "outputs": [
    {
     "data": {
      "text/plain": [
       "RandomForestClassifier(bootstrap=True, ccp_alpha=0.0, class_weight=None,\n",
       "                       criterion='gini', max_depth=None, max_features='auto',\n",
       "                       max_leaf_nodes=None, max_samples=None,\n",
       "                       min_impurity_decrease=0.0, min_impurity_split=None,\n",
       "                       min_samples_leaf=1, min_samples_split=2,\n",
       "                       min_weight_fraction_leaf=0.0, n_estimators=100,\n",
       "                       n_jobs=None, oob_score=False, random_state=42, verbose=0,\n",
       "                       warm_start=False)"
      ]
     },
     "execution_count": 28,
     "metadata": {},
     "output_type": "execute_result"
    }
   ],
   "source": [
    "names = X.columns\n",
    "scaler = preprocessing.StandardScaler()\n",
    "\n",
    "RandomForest = RandomForestClassifier(random_state=42)\n",
    "RandomForest.fit(X_train, y_train)"
   ]
  },
  {
   "cell_type": "markdown",
   "metadata": {},
   "source": [
    "# Section 5. Evaluation"
   ]
  },
  {
   "cell_type": "markdown",
   "metadata": {},
   "source": [
    "We are going to create two functions to build a destriptive table with the percentage of good and bad by decile or category "
   ]
  },
  {
   "cell_type": "code",
   "execution_count": 29,
   "metadata": {},
   "outputs": [],
   "source": [
    "   \n",
    "def DecileBadPct(col,data): \n",
    "    \n",
    "    ''' \n",
    "    Function that returns good and bad percentage by decile.\n",
    "\n",
    "    Input\n",
    "       col  = str with the column name\n",
    "       data = dataframe with the information\n",
    "    output \n",
    "       df2   = dataframe with the bins and the counts\n",
    "\n",
    "    '''\n",
    "    \n",
    "    q_01 = data[col].quantile(0.10)  # decile 1 upper bound\n",
    "    q_02 = data[col].quantile(0.20)  # decile 2 upper bound\n",
    "    q_03 = data[col].quantile(0.30)  # decile 3 upper bound\n",
    "    q_04 = data[col].quantile(0.40)  # decile 4 upper bound\n",
    "    q_05 = data[col].quantile(0.50)  # decile 5 upper bound\n",
    "    q_06 = data[col].quantile(0.60)  # decile 6 upper bound\n",
    "    q_07 = data[col].quantile(0.70)  # decile 7 upper bound\n",
    "    q_08 = data[col].quantile(0.80)  # decile 8 upper bound\n",
    "    q_09 = data[col].quantile(0.90)  # decile 9 upper bound\n",
    "\n",
    "    \n",
    "    bins = [float('-inf'),q_01 ,q_02, q_03, q_04, q_05, q_06, q_07, q_08, q_09, float('inf')] \n",
    "    data['Col_binned']=pd.cut(x = data[col],bins = bins)\n",
    "    df2 = data.groupby(['Col_binned',\"SeriousDlqin2yrs\"]).size().unstack()\n",
    "    # since it is posible for one bin to not have any observation for good or bad the unstack will drop an na\n",
    "    df2= df2.fillna(0)  # we fill the na with 0 to accurately calculate the 0% and 100%\n",
    "    df2['0_P']=df2[0]/(df2[0]+df2[1])\n",
    "    df2['1_P']=df2[1]/(df2[0]+df2[1])\n",
    "    return(df2);"
   ]
  },
  {
   "cell_type": "code",
   "execution_count": 30,
   "metadata": {},
   "outputs": [],
   "source": [
    "def CategoryBadPct(col,data): \n",
    "    \n",
    "    '''\n",
    "    Function that returns good and bad percentage by category.\n",
    "\n",
    "    Input \n",
    "       col  = str with the column name\n",
    "       data = dataframe with the information\n",
    "    output \n",
    "       df2   = dataframe with the bins and the counts\n",
    "\n",
    "    '''  \n",
    "    data['Col_binned']=data[col].astype('object')\n",
    "    df = data['Col_binned'].value_counts(sort=False)\n",
    "    df2 = data.groupby(['Col_binned',\"SeriousDlqin2yrs\"]).size().unstack()\n",
    "    # since it is posible for one category to not have any observation for good or bad the unstack will drop an na\n",
    "    df2= df2.fillna(0) # we fill the na with 0 to accurately calculate the 0% and 100%\n",
    "    df2['0_P']=df2[0]/(df2[0]+df2[1])\n",
    "    df2['1_P']=df2[1]/(df2[0]+df2[1])\n",
    "    return(df2);\n",
    "  "
   ]
  },
  {
   "cell_type": "markdown",
   "metadata": {},
   "source": [
    "## Question 1. Is there any valuable information in the sociodemographic data? "
   ]
  },
  {
   "cell_type": "code",
   "execution_count": 31,
   "metadata": {},
   "outputs": [
    {
     "data": {
      "image/png": "[encoded data removed]",
      "text/plain": [
       "<Figure size 576x396 with 1 Axes>"
      ]
     },
     "metadata": {},
     "output_type": "display_data"
    },
    {
     "data": {
      "image/png": "[encoded data removed]",
      "text/plain": [
       "<Figure size 576x396 with 1 Axes>"
      ]
     },
     "metadata": {},
     "output_type": "display_data"
    }
   ],
   "source": [
    "collist=[ 'age', 'MonthlyIncome']\n",
    "for col in collist:\n",
    "    df=DecileBadPct(col,cleanedloans)\n",
    "    ax=df.plot.bar(y=['0_P','1_P'],stacked=True,title=col)\n",
    "    ax.plot()"
   ]
  },
  {
   "cell_type": "code",
   "execution_count": 32,
   "metadata": {},
   "outputs": [
    {
     "data": {
      "image/png": "[encoded data removed]",
      "text/plain": [
       "<Figure size 576x396 with 1 Axes>"
      ]
     },
     "metadata": {},
     "output_type": "display_data"
    }
   ],
   "source": [
    "collist=['NumberOfDependents']\n",
    "for col in collist:\n",
    "    df=CategoryBadPct(col,cleanedloans)\n",
    "    ax=df.plot.bar(y=['0_P','1_P'],stacked=True,title=col)\n",
    "    ax.plot()"
   ]
  },
  {
   "cell_type": "markdown",
   "metadata": {},
   "source": [
    "From the graphs above we can see that there are some differences in each decile / category of the sociodemographic data, which gives us some clues that the data can be useful as a complement in the analysis but the characteristics by themselves are not as powerful making the risk assessment incomplete if we rely solely on these types of variables."
   ]
  },
  {
   "cell_type": "markdown",
   "metadata": {},
   "source": [
    "## Question 2. Is there any valuable information in the credit behaviour data?"
   ]
  },
  {
   "cell_type": "code",
   "execution_count": 33,
   "metadata": {},
   "outputs": [
    {
     "data": {
      "image/png": "[encoded data removed]",
      "text/plain": [
       "<Figure size 576x396 with 1 Axes>"
      ]
     },
     "metadata": {},
     "output_type": "display_data"
    },
    {
     "data": {
      "image/png": "[encoded data removed]",
      "text/plain": [
       "<Figure size 576x396 with 1 Axes>"
      ]
     },
     "metadata": {},
     "output_type": "display_data"
    },
    {
     "data": {
      "image/png": "[encoded data removed]",
      "text/plain": [
       "<Figure size 576x396 with 1 Axes>"
      ]
     },
     "metadata": {},
     "output_type": "display_data"
    }
   ],
   "source": [
    "collist=['RevolvingUtilizationOfUnsecuredLines', 'DebtRatio', 'NumberOfOpenCreditLinesAndLoans']\n",
    "for col in collist:\n",
    "    df=DecileBadPct(col,cleanedloans)\n",
    "    ax=df.plot.bar(y=['0_P','1_P'],stacked=True,title=col)\n",
    "    ax.plot()"
   ]
  },
  {
   "cell_type": "code",
   "execution_count": 34,
   "metadata": {},
   "outputs": [
    {
     "data": {
      "image/png": "[encoded data removed]",
      "text/plain": [
       "<Figure size 576x396 with 1 Axes>"
      ]
     },
     "metadata": {},
     "output_type": "display_data"
    },
    {
     "data": {
      "image/png": "[encoded data removed]",
      "text/plain": [
       "<Figure size 576x396 with 1 Axes>"
      ]
     },
     "metadata": {},
     "output_type": "display_data"
    },
    {
     "data": {
      "image/png": "[encoded data removed]",
      "text/plain": [
       "<Figure size 576x396 with 1 Axes>"
      ]
     },
     "metadata": {},
     "output_type": "display_data"
    },
    {
     "data": {
      "image/png": "[encoded data removed]",
      "text/plain": [
       "<Figure size 576x396 with 1 Axes>"
      ]
     },
     "metadata": {},
     "output_type": "display_data"
    }
   ],
   "source": [
    "collist=['NumberOfTimes90DaysLate', 'NumberRealEstateLoansOrLines','NumberOfTime30_59DaysPastDueNotWorse',\n",
    "         'NumberOfTime60_89DaysPastDueNotWorse']\n",
    "for col in collist:\n",
    "    df=CategoryBadPct(col,cleanedloans)\n",
    "    ax=df.plot.bar(y=['0_P','1_P'],stacked=True,title=col)\n",
    "    ax.plot()"
   ]
  },
  {
   "cell_type": "markdown",
   "metadata": {},
   "source": [
    "As we can see, these types of variables give much more information than those of the sociodemographic variables. Note that those are the most relevant variables in any credit studies and give lots of information about your default propensity."
   ]
  },
  {
   "cell_type": "markdown",
   "metadata": {},
   "source": [
    "## Question 3.  how to make an accurate credit score?"
   ]
  },
  {
   "cell_type": "markdown",
   "metadata": {},
   "source": [
    "First of all we ar going to asses the metrics of the credit score model we build"
   ]
  },
  {
   "cell_type": "markdown",
   "metadata": {},
   "source": [
    "- **Metrics**"
   ]
  },
  {
   "cell_type": "code",
   "execution_count": 35,
   "metadata": {},
   "outputs": [
    {
     "name": "stdout",
     "output_type": "stream",
     "text": [
      "Test Accuraccy:  0.9362832383665717\n",
      "\n",
      "Confusion Matrix:\n",
      "[[31211   278]\n",
      " [ 1869   338]]\n",
      "\n",
      "Classification Report:\n",
      "              precision    recall  f1-score   support\n",
      "\n",
      "           0       0.94      0.99      0.97     31489\n",
      "           1       0.55      0.15      0.24      2207\n",
      "\n",
      "    accuracy                           0.94     33696\n",
      "   macro avg       0.75      0.57      0.60     33696\n",
      "weighted avg       0.92      0.94      0.92     33696\n",
      "\n"
     ]
    }
   ],
   "source": [
    "X_test = pd.DataFrame(X_test, columns=names)\n",
    "pred_test = RandomForest.predict(X_test)\n",
    "\n",
    "print('Test Accuraccy: ', accuracy_score(y_test, pred_test))\n",
    "print('\\nConfusion Matrix:')\n",
    "print(confusion_matrix(y_test,pred_test))\n",
    "print('\\nClassification Report:')\n",
    "print(classification_report(y_test,pred_test))"
   ]
  },
  {
   "cell_type": "code",
   "execution_count": 36,
   "metadata": {},
   "outputs": [
    {
     "name": "stderr",
     "output_type": "stream",
     "text": [
      "C:\\Users\\AHOYOSMA\\.conda\\envs\\Tensor\\lib\\site-packages\\sklearn\\base.py:197: FutureWarning: From version 0.24, get_params will raise an AttributeError if a parameter cannot be retrieved as an instance attribute. Previously it would return None.\n",
      "  FutureWarning)\n",
      "C:\\Users\\AHOYOSMA\\.conda\\envs\\Tensor\\lib\\site-packages\\yellowbrick\\classifier\\base.py:232: YellowbrickWarning: could not determine class_counts_ from previously fitted classifier\n",
      "  YellowbrickWarning,\n"
     ]
    },
    {
     "data": {
      "image/png": "[encoded data removed]",
      "text/plain": [
       "<Figure size 576x396 with 1 Axes>"
      ]
     },
     "metadata": {},
     "output_type": "display_data"
    },
    {
     "data": {
      "text/plain": [
       "<matplotlib.axes._subplots.AxesSubplot at 0x26f45bbffd0>"
      ]
     },
     "execution_count": 36,
     "metadata": {},
     "output_type": "execute_result"
    }
   ],
   "source": [
    "viz =ROCAUC(RandomForest,title=\"RandomForest\")\n",
    "viz.score(X_test, y_test)\n",
    "viz.show()"
   ]
  },
  {
   "cell_type": "markdown",
   "metadata": {},
   "source": [
    "After fitting the model we can observe that we have a pretty good model to accurately asses the credit risk of the customers. To finish the model assessment we are going to see the variable importance to be sure that none of the variables absorbs most of the variability in the data"
   ]
  },
  {
   "cell_type": "code",
   "execution_count": 37,
   "metadata": {},
   "outputs": [
    {
     "name": "stderr",
     "output_type": "stream",
     "text": [
      "No handles with labels found to put in legend.\n"
     ]
    },
    {
     "name": "stdout",
     "output_type": "stream",
     "text": [
      "RevolvingUtilizationOfUnsecuredLines    0.192747\n",
      "DebtRatio                               0.176059\n",
      "MonthlyIncome                           0.165858\n",
      "age                                     0.122890\n",
      "NumberOfOpenCreditLinesAndLoans         0.089676\n",
      "NumberOfTimes90DaysLate                 0.083031\n",
      "NumberOfTime30_59DaysPastDueNotWorse    0.048816\n",
      "NumberOfDependents                      0.047152\n",
      "NumberOfTime60_89DaysPastDueNotWorse    0.040996\n",
      "NumberRealEstateLoansOrLines            0.032776\n",
      "dtype: float64\n"
     ]
    },
    {
     "data": {
      "image/png": "[encoded data removed]",
      "text/plain": [
       "<Figure size 576x396 with 1 Axes>"
      ]
     },
     "metadata": {},
     "output_type": "display_data"
    }
   ],
   "source": [
    "feature_imp = pd.Series(RandomForest.feature_importances_,index=X.columns).sort_values(ascending=False)\n",
    "print(feature_imp)\n",
    "# Creating a bar plot\n",
    "sns.barplot(x=feature_imp, y=feature_imp.index)\n",
    "# Add labels to your graph\n",
    "plt.xlabel('Feature Importance Score')\n",
    "plt.ylabel('Features')\n",
    "plt.title(\"Most Important Features\")\n",
    "plt.legend()\n",
    "plt.show()"
   ]
  },
  {
   "cell_type": "markdown",
   "metadata": {},
   "source": [
    "From the variable importance we can observe that the model is not rolling solely in one feature concluding that is a very good model."
   ]
  },
  {
   "cell_type": "code",
   "execution_count": null,
   "metadata": {},
   "outputs": [],
   "source": []
  }
 ],
 "metadata": {
  "kernelspec": {
   "display_name": "Python 3",
   "language": "python",
   "name": "python3"
  },
  "language_info": {
   "codemirror_mode": {
    "name": "ipython",
    "version": 3
   },
   "file_extension": ".py",
   "mimetype": "text/x-python",
   "name": "python",
   "nbconvert_exporter": "python",
   "pygments_lexer": "ipython3",
   "version": "3.6.10"
  }
 },
 "nbformat": 4,
 "nbformat_minor": 2
}
